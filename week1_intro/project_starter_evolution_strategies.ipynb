{
 "cells": [
  {
   "cell_type": "markdown",
   "metadata": {},
   "source": [
    "### Project :: Evolution Strategies\n",
    "\n",
    "![img](https://t4.ftcdn.net/jpg/00/17/46/81/240_F_17468143_wY3hsHyfNYoMdG9BlC56HI4JA7pNu63h.jpg)\n",
    "\n",
    "Remember the idea behind Evolution Strategies? Here's a neat [blog post](https://blog.openai.com/evolution-strategies/) about 'em.\n",
    "\n",
    "Can you reproduce their success? You will have to implement evolutionary strategies and see how they work.\n",
    "\n",
    "This project is optional; has several milestones each worth a number of points [and swag].\n",
    "\n",
    "__Milestones:__\n",
    "* [10pts] Basic prototype of evolutionary strategies that works in one thread on CartPole\n",
    "* [+5pts] Modify the code to make them work in parallel\n",
    "* [+5pts] if you can run ES distributedly on at least two PCs\n",
    "* [+10pts] Apply ES to play Atari Pong at least better than random\n",
    "* [++] Additional points for all kinds of cool stuff besides milestones\n",
    "\n",
    "__Rules:__\n",
    "\n",
    "* This is __not a mandatory assignment__, but it's a way to learn some cool things if you're getting bored with default assignments.\n",
    "* Once you decided to take on this project, please tell any of course staff members so that we can help ypu if you get stuck.\n",
    "* There's a default implementation of ES in this [openai repo](https://github.com/openai/evolution-strategies-starter). It's okay to look there if you get stuck or want to compare your solutions, but each copy-pasted chunk of code should be understood thoroughly. We'll test that with questions."
   ]
  },
  {
   "cell_type": "markdown",
   "metadata": {},
   "source": [
    "### Tips on implementation\n",
    "\n",
    "* It would be very convenient later if you implemented a function that takes policy weights, generates a session and returns policy changes -- so that you could then run a bunch of them in parallel.\n",
    "\n",
    "* The simplest way you can do multiprocessing is to use [joblib](https://www.google.com/search?client=ubuntu&channel=fs&q=joblib&ie=utf-8&oe=utf-8)\n",
    "\n",
    "* For joblib, make sure random variables are independent in each job. Simply add `np.random.seed()` at the beginning of your \"job\" function.\n",
    "\n",
    "Later once you got distributed, you may need a storage that gathers gradients from all workers. In such case we recommend [Redis](https://redis.io/) due to it's simplicity.\n",
    "\n",
    "Here's a speed-optimized saver/loader to store numpy arrays in Redis as strings.\n",
    "\n"
   ]
  },
  {
   "cell_type": "code",
   "execution_count": 1,
   "metadata": {},
   "outputs": [],
   "source": [
    "import joblib\n",
    "from six import BytesIO\n",
    "def dumps(data):\n",
    "    \"\"\"converts whatever to string\"\"\"\n",
    "    s = BytesIO()\n",
    "    joblib.dump(data,s)\n",
    "    return s.getvalue()\n",
    "        \n",
    "def loads(self,string):\n",
    "    \"\"\"converts string to whatever was dumps'ed in it\"\"\"\n",
    "    return joblib.load(BytesIO(string))"
   ]
  },
  {
   "cell_type": "markdown",
   "metadata": {},
   "source": [
    "### Tips on atari games\n",
    "* There's all the pre-processing and tuning done for you in the code below\n",
    "    * Images rescaled to 42x42 to speed up computation\n",
    "    * We use last 4 frames as observations to account for ball velocity\n",
    "    * The code below requires ```pip install Image``` and ```pip install gym[atari]``` \n",
    "    * You may also need some dependencies for gym[atari] - google \"gym install all\" dependencies or use our pre-built environment.\n",
    "* The recommended agent architecture is a convolutional neural network. Dense network will also do.\n",
    "\n",
    "\n",
    "May the force be with you!"
   ]
  },
  {
   "cell_type": "code",
   "execution_count": 2,
   "metadata": {},
   "outputs": [
    {
     "name": "stdout",
     "output_type": "stream",
     "text": [
      "\u001b[33mWARN: gym.spaces.Box autodetected dtype as <type 'numpy.float32'>. Please provide explicit dtype.\u001b[0m\n",
      "Discrete(6)\n"
     ]
    }
   ],
   "source": [
    "from pong import make_pong\n",
    "import numpy as np\n",
    "\n",
    "env = make_pong()\n",
    "n_actions = env.action_space.n\n",
    "print(env.action_space)"
   ]
  },
  {
   "cell_type": "code",
   "execution_count": 3,
   "metadata": {},
   "outputs": [
    {
     "name": "stdout",
     "output_type": "stream",
     "text": [
      "(4, 42, 42)\n"
     ]
    }
   ],
   "source": [
    "#get the initial state\n",
    "s = env.reset()\n",
    "print (s.shape)"
   ]
  },
  {
   "cell_type": "code",
   "execution_count": 4,
   "metadata": {},
   "outputs": [
    {
     "data": {
      "text/plain": [
       "<matplotlib.image.AxesImage at 0x7fb3ec4c4410>"
      ]
     },
     "execution_count": 4,
     "metadata": {},
     "output_type": "execute_result"
    },
    {
     "data": {
      "image/png": "[encoded data removed]",
      "text/plain": [
       "<Figure size 432x288 with 1 Axes>"
      ]
     },
     "metadata": {},
     "output_type": "display_data"
    }
   ],
   "source": [
    "import torch\n",
    "import torch.nn as nn\n",
    "import torchvision\n",
    "import torchvision.transforms as transforms\n",
    "\n",
    "\n",
    "# Device configuration\n",
    "device = torch.device('cuda' if torch.cuda.is_available() else 'cpu')\n",
    "\n",
    "# Hyper-parameters \n",
    "input_size = 4 * 42 * 42\n",
    "hidden_size = 500\n",
    "num_classes = 10\n",
    "num_epochs = 5\n",
    "batch_size = 100\n",
    "learning_rate = 0.001\n",
    "\n",
    "# MNIST dataset \n",
    "train_dataset = torchvision.datasets.MNIST(root='../../data', \n",
    "                                           train=True, \n",
    "                                           transform=transforms.ToTensor(),  \n",
    "                                           download=True)\n",
    "\n",
    "test_dataset = torchvision.datasets.MNIST(root='../../data', \n",
    "                                          train=False, \n",
    "                                          transform=transforms.ToTensor())\n",
    "\n",
    "# Data loader\n",
    "train_loader = torch.utils.data.DataLoader(dataset=train_dataset, \n",
    "                                           batch_size=batch_size, \n",
    "                                           shuffle=True)\n",
    "\n",
    "test_loader = torch.utils.data.DataLoader(dataset=test_dataset, \n",
    "                                          batch_size=batch_size, \n",
    "                                          shuffle=False)\n",
    "\n",
    "# Fully connected neural network with one hidden layer\n",
    "class NeuralNet(nn.Module):\n",
    "    def __init__(self, input_size, hidden_size, num_classes):\n",
    "        super(NeuralNet, self).__init__()\n",
    "        self.fc1 = nn.Linear(input_size, hidden_size) \n",
    "        self.relu = nn.ReLU()\n",
    "        self.fc2 = nn.Linear(hidden_size, num_classes)  \n",
    "    \n",
    "    def forward(self, x):\n",
    "        out = self.fc1(x)\n",
    "        out = self.relu(out)\n",
    "        out = self.fc2(out)\n",
    "        return out\n",
    "\n",
    "model = NeuralNet(input_size, hidden_size, num_classes).to(device)\n",
    "\n",
    "# Loss and optimizer\n",
    "criterion = nn.CrossEntropyLoss()\n",
    "optimizer = torch.optim.Adam(model.parameters(), lr=learning_rate)  \n",
    "\n",
    "# Train the model\n",
    "total_step = len(train_loader)\n",
    "for epoch in range(num_epochs):\n",
    "    for i, (images, labels) in enumerate(train_loader):  \n",
    "        # Move tensors to the configured device\n",
    "        images = images.reshape(-1, 28*28).to(device)\n",
    "        labels = labels.to(device)\n",
    "        \n",
    "        # Forward pass\n",
    "        outputs = model(images)\n",
    "        loss = criterion(outputs, labels)\n",
    "        \n",
    "        # Backward and optimize\n",
    "        optimizer.zero_grad()\n",
    "        loss.backward()\n",
    "        optimizer.step()\n",
    "        \n",
    "        if (i+1) % 100 == 0:\n",
    "            print ('Epoch [{}/{}], Step [{}/{}], Loss: {:.4f}' \n",
    "                   .format(epoch+1, num_epochs, i+1, total_step, loss.item()))\n",
    "\n",
    "# Test the model\n",
    "# In test phase, we don't need to compute gradients (for memory efficiency)\n",
    "with torch.no_grad():\n",
    "    correct = 0\n",
    "    total = 0\n",
    "    for images, labels in test_loader:\n",
    "        images = images.reshape(-1, 28*28).to(device)\n",
    "        labels = labels.to(device)\n",
    "        outputs = model(images)\n",
    "        _, predicted = torch.max(outputs.data, 1)\n",
    "        total += labels.size(0)\n",
    "        correct += (predicted == labels).sum().item()\n",
    "\n",
    "    print('Accuracy of the network on the 10000 test images: {} %'.format(100 * correct / total))\n",
    "\n",
    "# Save the model checkpoint\n",
    "torch.save(model.state_dict(), 'model.ckpt')"
   ]
  },
  {
   "cell_type": "code",
   "execution_count": 5,
   "metadata": {},
   "outputs": [
    {
     "data": {
      "text/plain": [
       "<matplotlib.image.AxesImage at 0x7fb3ea372090>"
      ]
     },
     "execution_count": 5,
     "metadata": {},
     "output_type": "execute_result"
    },
    {
     "data": {
      "image/png": "[encoded data removed]",
      "text/plain": [
       "<Figure size 432x288 with 1 Axes>"
      ]
     },
     "metadata": {},
     "output_type": "display_data"
    }
   ],
   "source": [
    "#next frame\n",
    "new_s,r,done, _ = env.step(env.action_space.sample())\n",
    "plt.imshow(new_s.swapaxes(1,2).reshape(-1,s.shape[-1]).T)"
   ]
  },
  {
   "cell_type": "code",
   "execution_count": 6,
   "metadata": {},
   "outputs": [
    {
     "data": {
      "text/plain": [
       "<matplotlib.image.AxesImage at 0x7fb3ea2e7550>"
      ]
     },
     "execution_count": 6,
     "metadata": {},
     "output_type": "execute_result"
    },
    {
     "data": {
      "image/png": "[encoded data removed]",
      "text/plain": [
       "<Figure size 432x288 with 1 Axes>"
      ]
     },
     "metadata": {},
     "output_type": "display_data"
    }
   ],
   "source": [
    "#after 10 frames\n",
    "for _ in range(10):\n",
    "    new_s,r,done, _ = env.step(env.action_space.sample())\n",
    "\n",
    "plt.imshow(new_s.swapaxes(1,2).reshape(-1,s.shape[-1]).T,vmin=0)"
   ]
  },
  {
   "cell_type": "code",
   "execution_count": 4,
   "metadata": {},
   "outputs": [
    {
     "name": "stderr",
     "output_type": "stream",
     "text": [
      "/usr/local/lib/python2.7/dist-packages/sklearn/neural_network/multilayer_perceptron.py:564: ConvergenceWarning: Stochastic Optimizer: Maximum iterations (1) reached and the optimization hasn't converged yet.\n",
      "  % self.max_iter, ConvergenceWarning)\n"
     ]
    }
   ],
   "source": [
    "from sklearn.neural_network import MLPClassifier\n",
    "agent = MLPClassifier(hidden_layer_sizes=(8,8),   # Weight matrix : (7056, 8) -> (8, 8) -> (8, 6)\n",
    "                      activation='tanh',\n",
    "                      warm_start=True, #keep progress between .fit(...) calls\n",
    "                      max_iter=1 #make only 1 iteration on each .fit(...)\n",
    "                     )\n",
    "#initialize agent to the dimension of state an amount of actions\n",
    "agent.fit([env.reset().flatten()] * n_actions, range(n_actions));"
   ]
  },
  {
   "cell_type": "code",
   "execution_count": 5,
   "metadata": {},
   "outputs": [],
   "source": [
    "def generate_coefs():\n",
    "    layer_1_coef = np.random.rand(7056, 8)\n",
    "    layer_2_coef = np.random.rand(8, 8)\n",
    "    layer_3_coef = np.random.rand(8, 6)\n",
    "    \n",
    "    return [layer_1_coef, layer_2_coef, layer_3_coef]"
   ]
  },
  {
   "cell_type": "code",
   "execution_count": 10,
   "metadata": {},
   "outputs": [],
   "source": [
    "def generate_bias():\n",
    "    layer_1_bias = np.random.rand(8)\n",
    "    layer_2_bias = np.random.rand(8)\n",
    "    layer_3_bias = np.random.rand(6)\n",
    "    \n",
    "    return [layer_1_bias, layer_2_bias, layer_3_bias]"
   ]
  },
  {
   "cell_type": "code",
   "execution_count": 10,
   "metadata": {},
   "outputs": [],
   "source": [
    "coefs_generated = [generate_coefs() for _ in range(50)]\n",
    "bias_generated = [generate_bias() for _ in range(50)]\n",
    "index_solutions = 0"
   ]
  },
  {
   "cell_type": "code",
   "execution_count": 12,
   "metadata": {},
   "outputs": [],
   "source": [
    "class MLPClassifierOverride(MLPClassifier):\n",
    "    def _initialize(self, y, layer_units):\n",
    "        # set all attributes, allocate weights etc for first call\n",
    "        # Initialize parameters\n",
    "        self.n_iter_ = 0\n",
    "        self.t_ = 0\n",
    "        self.n_outputs_ = y.shape[1]\n",
    "\n",
    "        # Compute the number of layers\n",
    "        self.n_layers_ = len(layer_units)\n",
    "\n",
    "        # Output for regression\n",
    "        #if not is_classifier(self):\n",
    "        #    self.out_activation_ = 'identity'\n",
    "        # Output for multi class\n",
    "        if self._label_binarizer.y_type_ == 'multiclass':\n",
    "            self.out_activation_ = 'softmax'\n",
    "        # Output for binary class and multi-label\n",
    "        else:\n",
    "            self.out_activation_ = 'logistic'\n",
    "\n",
    "        # Initialize coefficient and intercept layers\n",
    "        self.coefs_ = coefs_generated[index_solutions]\n",
    "        self.intercepts_ = bias_generated[index_solutions]\n",
    "\n",
    "        for i in range(self.n_layers_ - 1):\n",
    "            coef_init, intercept_init = self._init_coef(layer_units[i],\n",
    "                                                        layer_units[i + 1])\n",
    "            self.coefs_.append(coef_init)\n",
    "            self.intercepts_.append(intercept_init)\n",
    "\n",
    "        #if \"\"\"self.solver in _STOCHASTIC_SOLVERS\"\"\" (True):\n",
    "        self.loss_curve_ = []\n",
    "        self._no_improvement_count = 0\n",
    "        if self.early_stopping:\n",
    "            self.validation_scores_ = []\n",
    "            self.best_validation_score_ = -np.inf\n",
    "        else:\n",
    "            self.best_loss_ = np.inf"
   ]
  },
  {
   "cell_type": "code",
   "execution_count": 13,
   "metadata": {},
   "outputs": [],
   "source": [
    "def play_game(t_max = 100):\n",
    "    \"\"\"\n",
    "    plays a game and returns reward and parameters\n",
    "    \"\"\"\n",
    "    s = [env.reset().flatten()]\n",
    "    total_reward = 0\n",
    "    \n",
    "    for t in range(t_max):\n",
    "        \n",
    "        #predict array of action probabilities\n",
    "        probs = agent.predict_proba(s)[0] \n",
    "        \n",
    "        a = np.random.choice(np.asarray(range(n_actions)), p=probs)#<sample action with such probabilities>\n",
    "        \n",
    "        new_s,r,done,info = env.step(a)\n",
    "        new_s = [new_s.flatten()]\n",
    "        #record sessions like you did before\n",
    "        total_reward+=r\n",
    "        \n",
    "        s = new_s\n",
    "        if done: break         \n",
    "    return total_reward, agent.coefs_, agent.intercepts_"
   ]
  },
  {
   "cell_type": "code",
   "execution_count": 6,
   "metadata": {},
   "outputs": [],
   "source": [
    "from IPython.display import clear_output\n",
    "\n",
    "def select_best_n_solutions(samples_returned_number = 2, max_timesteps = 500):\n",
    "    \"\"\" 100 timesteps ~= reward between -1.5 and 1.5)\"\"\"\n",
    "    rewards_list = []\n",
    "    bias_list = []\n",
    "    coefs_list = []\n",
    "    maximas_list = []\n",
    "    returned_coefs = []\n",
    "    returned_bias = []\n",
    "    global index_solutions\n",
    "    \n",
    "    for i in bias_generated:\n",
    "        agent = MLPClassifierOverride(hidden_layer_sizes=(8,8),   # Weight matrix : (7056, 8) -> (8, 8) -> (8, 6)\n",
    "                      activation='tanh',\n",
    "                      warm_start=True, #keep progress between .fit(...) calls\n",
    "                      max_iter=1 #make only 1 iteration on each .fit(...)\n",
    "                     )\n",
    "        \n",
    "        print (\"generating solution number \" + str(index_solutions))\n",
    "        agent.fit([env.reset().flatten()] * n_actions, range(n_actions));\n",
    "        index_solutions += 1\n",
    "        reward, coefs, bias = play_game(max_timesteps)\n",
    "        clear_output()\n",
    "        \n",
    "        rewards_list.append(reward)\n",
    "        coefs_list.append(coefs)\n",
    "        bias_list.append(bias)\n",
    "        print (\"rewards list : \" + str(rewards_list))\n",
    "    \n",
    "    for i in range(samples_returned_number):\n",
    "        maximum_index = rewards_list.index(max(rewards_list)) # getting the index of the best parameters\n",
    "        rewards_list.remove(max(rewards_list))                # removing the best parameter from the rewards_list\n",
    "        maximas_list.append(maximum_index)                   # maximums_list contains the index of the maximas\n",
    "    \n",
    "    for i in maximas_list:\n",
    "        returned_coefs.append(coefs_list[i])\n",
    "        returned_bias.append(bias_list[i])\n",
    "    \n",
    "    print (\"Maximum rewards'index : \" + str(maximas_list))\n",
    "    return returned_coefs, returned_bias"
   ]
  },
  {
   "cell_type": "code",
   "execution_count": 30,
   "metadata": {},
   "outputs": [
    {
     "name": "stdout",
     "output_type": "stream",
     "text": [
      "rewards list : [-2.0, -2.0, -2.0, -2.0, -2.0, -2.0, -2.0, -2.0, -2.0, -2.0, -2.0, -2.0, 0.0, -2.0, -2.0, -1.0, -2.0, -2.0, 1.0, -2.0, -2.0, -2.0, -1.0, -2.0, -2.0, -2.0, -2.0, -2.0, -1.0, 1.0, -2.0, -2.0, -2.0, -1.0, -2.0, -2.0, -2.0, -2.0, -2.0, -2.0, -2.0, -2.0, -2.0, -2.0, -2.0, -2.0, -2.0, -2.0, -2.0, -2.0]\n",
      "Maximum rewards'index : [18, 28]\n"
     ]
    }
   ],
   "source": [
    "max_generation = 50\n",
    "coefs_generated = [generate_coefs() for _ in range(max_generation)]\n",
    "bias_generated = [generate_bias() for _ in range(max_generation)]\n",
    "index_solutions = 0\n",
    "best_coefs, best_bias = select_best_n_solutions(max_timesteps=100)"
   ]
  },
  {
   "cell_type": "code",
   "execution_count": 7,
   "metadata": {},
   "outputs": [],
   "source": [
    "from random import random\n",
    "\n",
    "def crossover(coefs_computed, bias_computed):\n",
    "    \"\"\"\n",
    "        returns one crossed parameter set out of lists of 2 coefs and bias sets\n",
    "    \"\"\"\n",
    "    if (random() > 0.5):\n",
    "        coefs_computed[0][0], coefs_computed[1][0] = coefs_computed[1][0], coefs_computed[0][0]\n",
    "    if (random() > 0.5):\n",
    "        coefs_computed[0][1], coefs_computed[1][1] = coefs_computed[1][1], coefs_computed[0][1]\n",
    "    if (random() > 0.5):\n",
    "        coefs_computed[0][2], coefs_computed[1][2] = coefs_computed[1][2], coefs_computed[0][2]\n",
    "    if (random() > 0.5):\n",
    "        bias_computed[0][0], bias_computed[1][0] = bias_computed[1][0], bias_computed[0][0]\n",
    "    if (random() > 0.5):\n",
    "        bias_computed[0][1], bias_computed[1][1] = bias_computed[1][1], bias_computed[0][1]\n",
    "    if (random() > 0.5):\n",
    "        bias_computed[0][2], bias_computed[1][2] = bias_computed[1][2], bias_computed[0][2]\n",
    "    \n",
    "    return coefs_computed[0], bias_computed[0]"
   ]
  },
  {
   "cell_type": "code",
   "execution_count": null,
   "metadata": {},
   "outputs": [],
   "source": []
  },
  {
   "cell_type": "code",
   "execution_count": 8,
   "metadata": {},
   "outputs": [],
   "source": [
    "def mutation(coef):\n",
    "    \n",
    "    \"\"\"\n",
    "    returns one mutated set of coefs out of one set of coefs\n",
    "    \"\"\"\n",
    "    \n",
    "    for j in range(7055):\n",
    "        if (random() > 0.995):\n",
    "            coef[0][j] = np.tanh(coef[0][j])\n",
    "    for j in range(7):\n",
    "        if (random() > 0.995):\n",
    "            coef[1][j] = np.tanh(coef[1][j])\n",
    "    for j in range(5):\n",
    "        if (random() > 0.995):\n",
    "            coef[2][j] = np.tanh(coef[2][j])\n",
    "    return coef"
   ]
  },
  {
   "cell_type": "code",
   "execution_count": 97,
   "metadata": {},
   "outputs": [],
   "source": [
    "coefs_crossed, bias_crossed = [], []\n",
    "\n",
    "for _ in range(max_generation):\n",
    "    tmp_coef, tmp_bia = crossover(best_coefs, best_bias)\n",
    "    coefs_crossed.append(tmp_coef)\n",
    "    bias_crossed.append(tmp_bia)"
   ]
  },
  {
   "cell_type": "code",
   "execution_count": 103,
   "metadata": {},
   "outputs": [],
   "source": [
    "for i in range(max_generation):\n",
    "    coefs_generated[i] = mutation(coefs_crossed[i])"
   ]
  },
  {
   "cell_type": "code",
   "execution_count": null,
   "metadata": {},
   "outputs": [
    {
     "name": "stdout",
     "output_type": "stream",
     "text": [
      "rewards list : [-4.0, -4.0, -4.0, -2.0, -4.0, -4.0, -4.0, -4.0, -4.0, -4.0, -4.0, -4.0, -4.0, -4.0, -4.0, -4.0, -4.0, -4.0, -4.0, -4.0, -4.0, -4.0, -4.0, -4.0, -4.0, -4.0, -4.0, -4.0, -4.0, -4.0, -4.0, -4.0, -4.0, -1.0, -4.0, -4.0, -4.0, -4.0, -4.0, -4.0]\n",
      "generating solution number 40\n"
     ]
    }
   ],
   "source": [
    "import copy\n",
    "\n",
    "max_generation = 50\n",
    "coefs_generated = [generate_coefs() for _ in range(max_generation)]\n",
    "bias_generated = [generate_bias() for _ in range(max_generation)]\n",
    "index_solutions = 0\n",
    "\n",
    "for i in range(20):\n",
    "    index_solutions = 0\n",
    "    best_coefs, best_bias = select_best_n_solutions(max_timesteps=200)\n",
    "    \n",
    "    #generating a list of max_generation copies of the best samples:\n",
    "    coefs_generated = []\n",
    "    bias_generated = []\n",
    "    \n",
    "    for i in range(max_generation):\n",
    "        coefs_generated.append(copy.copy(best_coefs[0]))\n",
    "        bias_generated.append(copy.copy(best_bias[0]))\n",
    "        \n",
    "    #generating crossed sets \n",
    "    \"\"\"\n",
    "    for _ in range(max_generation):\n",
    "        tmp_coef, tmp_bia = crossover(best_coefs, best_bias)\n",
    "        coefs_crossed.append(tmp_coef)\n",
    "        bias_crossed.append(tmp_bia)\n",
    "    \"\"\" \n",
    "    #mutating set\n",
    "   # for i in range(max_generation):\n",
    "   #     print i\n",
    "   #     coefs_generated[i] = mutation(coefs_generated[i])"
   ]
  },
  {
   "cell_type": "code",
   "execution_count": null,
   "metadata": {},
   "outputs": [],
   "source": []
  }
 ],
 "metadata": {
  "kernelspec": {
   "display_name": "Python 2",
   "language": "python",
   "name": "python2"
  },
  "language_info": {
   "codemirror_mode": {
    "name": "ipython",
    "version": 2
   },
   "file_extension": ".py",
   "mimetype": "text/x-python",
   "name": "python",
   "nbconvert_exporter": "python",
   "pygments_lexer": "ipython2",
   "version": "2.7.12"
  }
 },
 "nbformat": 4,
 "nbformat_minor": 2
}
